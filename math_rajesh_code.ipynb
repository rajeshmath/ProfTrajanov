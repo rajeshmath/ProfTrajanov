{
  "nbformat": 4,
  "nbformat_minor": 0,
  "metadata": {
    "colab": {
      "name": "Assignment 1-Helper Code.ipynb",
      "provenance": [],
      "collapsed_sections": [],
      "include_colab_link": true
    },
    "kernelspec": {
      "name": "python3",
      "display_name": "Python 3"
    },
    "language_info": {
      "name": "python"
    }
  },
  "cells": [
    {
      "cell_type": "markdown",
      "metadata": {
        "id": "view-in-github",
        "colab_type": "text"
      },
      "source": [
        "<a href=\"https://colab.research.google.com/github/rajeshmath/ProfTrajanov/blob/master/math_rajesh_code.ipynb\" target=\"_parent\"><img src=\"https://colab.research.google.com/assets/colab-badge.svg\" alt=\"Open In Colab\"/></a>"
      ]
    },
    {
      "cell_type": "code",
      "source": [
        "!pip install --ignore-installed -q pyspark==3.2.1"
      ],
      "metadata": {
        "colab": {
          "base_uri": "https://localhost:8080/"
        },
        "id": "DazkoYEnNvCk",
        "outputId": "5acb2d9e-5277-41f3-b911-1eea797a5032"
      },
      "execution_count": null,
      "outputs": [
        {
          "output_type": "stream",
          "name": "stdout",
          "text": [
            "\u001b[K     |████████████████████████████████| 281.4 MB 42 kB/s \n",
            "\u001b[K     |████████████████████████████████| 198 kB 59.9 MB/s \n",
            "\u001b[?25h  Building wheel for pyspark (setup.py) ... \u001b[?25l\u001b[?25hdone\n"
          ]
        }
      ]
    },
    {
      "cell_type": "code",
      "source": [
        "import os\n",
        "import sys\n",
        "import requests\n",
        "from operator import add\n",
        "\n",
        "from pyspark import SparkConf,SparkContext\n",
        "from pyspark.streaming import StreamingContext\n",
        "\n",
        "from pyspark.sql import SparkSession\n",
        "from pyspark.sql import SQLContext\n",
        "\n",
        "from pyspark.sql.types import *\n",
        "from pyspark.sql import functions as func\n",
        "from pyspark.sql.functions import *\n",
        "\n",
        "spark = SparkSession.builder.master(\"local[*]\").getOrCreate()\n",
        "sc = SparkContext.getOrCreate()\n",
        "sqlContext = SQLContext(sc)\n",
        "\n"
      ],
      "metadata": {
        "colab": {
          "base_uri": "https://localhost:8080/"
        },
        "id": "26OFIJedNvKh",
        "outputId": "02de2495-1edc-4ffa-fabf-3e24c887182f"
      },
      "execution_count": null,
      "outputs": [
        {
          "output_type": "stream",
          "name": "stderr",
          "text": [
            "/usr/local/lib/python3.7/dist-packages/pyspark/sql/context.py:79: FutureWarning: Deprecated in 3.0.0. Use SparkSession.builder.getOrCreate() instead.\n",
            "  FutureWarning\n"
          ]
        }
      ]
    },
    {
      "cell_type": "code",
      "source": [
        "\n",
        "# requesting Spark context\n",
        "sc = SparkContext(appName=\"HW1_Task1\")"
      ],
      "metadata": {
        "id": "a-C4bfG6gmBN"
      },
      "execution_count": null,
      "outputs": []
    },
    {
      "cell_type": "code",
      "source": [
        "#Exception Handling and removing wrong datalines\n",
        "def isfloat(value):\n",
        "    try:\n",
        "        float(value)\n",
        "        return True\n",
        " \n",
        "    except:\n",
        "         return False"
      ],
      "metadata": {
        "id": "fUfKATdbNvlT"
      },
      "execution_count": null,
      "outputs": []
    },
    {
      "cell_type": "code",
      "source": [
        "#For example, remove lines if they don’t have 16 values and \n",
        "# checking if the trip distance and fare amount is a float number\n",
        "# checking if the trip duration is more than a minute, trip distance is more than 0.1 miles, \n",
        "# fare amount and total amount are more than 0.1 dollars\n",
        "def correctRows(p):\n",
        "    if(len(p)==17):\n",
        "        if(isfloat(p[5]) and isfloat(p[11])):\n",
        "            if(float(p[4])> 60 and float(p[5])>0.10 and float(p[11])> 0.10 and float(p[16])> 0.10):\n",
        "                return p\n",
        "\n"
      ],
      "metadata": {
        "id": "PQ6EEJgFNvoP"
      },
      "execution_count": null,
      "outputs": []
    },
    {
      "cell_type": "code",
      "source": [
        "# Upload the data\n",
        "# At this point you have to upload your data to google colab\n",
        "! wget -q https://storage.googleapis.com/cs777_spring_2022_public/taxi-data-sorted-verysmall.csv"
      ],
      "metadata": {
        "id": "X82Ws7RNPkdU"
      },
      "execution_count": null,
      "outputs": []
    },
    {
      "cell_type": "code",
      "source": [
        "pwd"
      ],
      "metadata": {
        "colab": {
          "base_uri": "https://localhost:8080/",
          "height": 35
        },
        "id": "pM_-691TQEsI",
        "outputId": "0b12173e-3127-4182-e7b5-3a0e1d554806"
      },
      "execution_count": null,
      "outputs": [
        {
          "output_type": "execute_result",
          "data": {
            "application/vnd.google.colaboratory.intrinsic+json": {
              "type": "string"
            },
            "text/plain": [
              "'/content'"
            ]
          },
          "metadata": {},
          "execution_count": 27
        }
      ]
    },
    {
      "cell_type": "code",
      "source": [
        "ls -la"
      ],
      "metadata": {
        "colab": {
          "base_uri": "https://localhost:8080/"
        },
        "id": "qpU6TnrdQE32",
        "outputId": "93c98cc9-58ad-4730-e705-c2158832d4d1"
      },
      "execution_count": null,
      "outputs": [
        {
          "output_type": "stream",
          "name": "stdout",
          "text": [
            "total 1900\n",
            "drwxr-xr-x 1 root root    4096 Mar 11 15:09 \u001b[0m\u001b[01;34m.\u001b[0m/\n",
            "drwxr-xr-x 1 root root    4096 Mar 11 14:44 \u001b[01;34m..\u001b[0m/\n",
            "drwxr-xr-x 4 root root    4096 Mar  9 14:47 \u001b[01;34m.config\u001b[0m/\n",
            "drwxr-xr-x 2 root root    4096 Mar 11 15:09 \u001b[01;34m.ipynb_checkpoints\u001b[0m/\n",
            "drwxr-xr-x 1 root root    4096 Mar  9 14:48 \u001b[01;34msample_data\u001b[0m/\n",
            "-rw-r--r-- 1 root root 1921037 Mar 11 15:07 taxi-data-sorted-verysmall.csv\n"
          ]
        }
      ]
    },
    {
      "cell_type": "code",
      "source": [
        "# Set your file path here \n",
        "path=\"file:///content/\"\n",
        "\n",
        "# You have 1 files \n",
        "\n",
        "testFile= path + \"taxi-data-sorted-verysmall.csv\"\n",
        "\n",
        "\n",
        "testDataFrame = sqlContext.read.format('csv').options(header='true', inferSchema='true',  sep =\",\").load(testFile)\n",
        "\n",
        "testDataFrame.show()"
      ],
      "metadata": {
        "colab": {
          "base_uri": "https://localhost:8080/"
        },
        "id": "9-7tAoUMQE7X",
        "outputId": "71e703b4-687f-4448-aec7-0be53f2baad5"
      },
      "execution_count": null,
      "outputs": [
        {
          "output_type": "stream",
          "name": "stdout",
          "text": [
            "+--------------------------------+--------------------------------+-------------------+-------------------+---+----+----------+---------+----------+---------+---+----+------+------+------+------+----+\n",
            "|07290D3599E7A0D62097A346EFCC1FB5|E7750A37CAB07D0DFF0AF7E3573AC141|2013-01-01 00:00:00|2013-01-01 00:02:00|120|0.44|-73.956528|40.716976|-73.962440|40.715008|CSH|3.50|0.5012|0.5013|0.0014|0.0015|4.50|\n",
            "+--------------------------------+--------------------------------+-------------------+-------------------+---+----+----------+---------+----------+---------+---+----+------+------+------+------+----+\n",
            "|            22D70BF00EEB0ADC8...|            3FF2709163DE7036F...|2013-01-01 00:02:00|2013-01-01 00:02:00|  0| 0.0|       0.0|      0.0|       0.0|      0.0|CSH|27.0|   0.0|   0.5|   0.0|   0.0|27.5|\n",
            "|            0EC22AAF491A8BD91...|            778C92B26AE78A9EB...|2013-01-01 00:01:00|2013-01-01 00:03:00|120|0.71|-73.973145|40.752827|-73.965897|40.760445|CSH| 4.0|   0.5|   0.5|   0.0|   0.0| 5.0|\n",
            "|            1390FB380189DF6BB...|            BE317B986700F63C4...|2013-01-01 00:01:00|2013-01-01 00:03:00|120|0.48|-74.004173|40.720947|-74.003838|40.726189|CSH| 4.0|   0.5|   0.5|   0.0|   0.0| 5.0|\n",
            "|            3B4129883A1D05BE8...|            7077F9FD5AD649AEA...|2013-01-01 00:01:00|2013-01-01 00:03:00|120|0.61|-73.987373|40.724861|-73.983772|40.730995|CRD| 4.0|   0.5|   0.5|   0.0|   0.0| 5.0|\n",
            "|            5FAA7F69213D26A42...|            00B7691D86D96AEBD...|2013-01-01 00:02:00|2013-01-01 00:03:00| 60| 0.0|       0.0|      0.0|       0.0|      0.0|CRD| 2.5|   0.5|   0.5|  0.25|   0.0|3.75|\n",
            "|            DFBFA82ECA8F7059B...|            CF8604E72D83840FB...|2013-01-01 00:02:00|2013-01-01 00:03:00| 60|0.39|-73.981544|40.781475|-73.979439|40.784386|CRD| 3.0|   0.5|   0.5|   0.7|   0.0| 4.7|\n",
            "|            1E5F4C1CAE7AB3D06...|            E0B2F618053518F24...|2013-01-01 00:03:00|2013-01-01 00:04:00| 60| 0.0|-73.993973|40.751266|       0.0|      0.0|CSH| 2.5|   0.5|   0.5|   0.0|   0.0| 3.5|\n",
            "|            468244D1361B8A3EB...|            BB899DFEA9CC964B5...|2013-01-01 00:00:00|2013-01-01 00:04:00|240|1.71|-73.955383|40.779728|-73.967758|40.760326|CSH| 6.5|   0.5|   0.5|   0.0|   0.0| 7.5|\n",
            "|            5F78CC6D4ECD0541B...|            B7567F5BFD558C665...|2013-01-01 00:00:00|2013-01-01 00:04:00|240|1.21|   -73.973| 40.79314|-73.981453|40.778465|CRD| 6.0|   0.5|   0.5|   1.3|   0.0| 8.3|\n",
            "|            6BA29E9A69B10F218...|            ED368552102F12EA2...|2013-01-01 00:01:00|2013-01-01 00:04:00|180|0.74|-73.971138| 40.75898|-73.972206|40.752502|CRD| 4.5|   0.5|   0.5|   0.0|   0.0| 5.5|\n",
            "|            75C90377AB710B047...|            00B7691D86D96AEBD...|2013-01-01 00:03:00|2013-01-01 00:04:00| 60| 0.0|       0.0|      0.0|       0.0|      0.0|CRD| 3.0|   0.5|   0.5|  0.07|   0.0|4.07|\n",
            "|            C306CAC565429C128...|            E255D5DFB9A967B9D...|2013-01-01 00:01:00|2013-01-01 00:04:00|180|0.84|-73.942841|40.797031| -73.93454|40.797314|CSH| 4.5|   0.5|   0.5|   0.0|   0.0| 5.5|\n",
            "|            C4D6E189EF44EB83E...|            95B5B3CDA9EDC88AA...|2013-01-01 00:03:00|2013-01-01 00:04:00| 60| 0.0|-73.989189|40.721924|       0.0|      0.0|CSH| 2.5|   0.5|   0.5|   0.0|   0.0| 3.5|\n",
            "|            DD467ED2E7DDB5C8B...|            1D7876BD692018A5B...|2013-01-01 00:01:00|2013-01-01 00:04:00|180|0.95|-73.976753|40.750706|-73.990089|40.750729|CSH| 5.0|   0.5|   0.5|   0.0|   0.0| 6.0|\n",
            "|            F8A0B52B22BB58B3C...|            00B7691D86D96AEBD...|2013-01-01 00:03:00|2013-01-01 00:04:00| 60| 0.0|-73.937637|40.758369|-73.937607| 40.75835|CRD| 2.5|   0.5|   0.5|  0.25|   0.0|3.75|\n",
            "|            120E700FE35B2DDBE...|            3EDDD1433E2276DF9...|2013-01-01 00:03:00|2013-01-01 00:05:00|120|0.52|-73.981972|40.752525|-73.985313|40.747738|CSH| 4.0|   0.5|   0.5|   0.0|   0.0| 5.0|\n",
            "|            256C6A3CA47F81497...|            8FA961982C3FEF438...|2013-01-01 00:00:00|2013-01-01 00:05:00|300|0.13|-73.969841|40.797359|-73.961899|40.812466|CSH| 6.5|   0.5|   0.5|   0.0|   0.0| 7.5|\n",
            "|            655E773C92FA44635...|            B6EAE07E2AD023B38...|2013-01-01 00:02:00|2013-01-01 00:05:00|180|1.55|-74.003197|40.733032|-74.012985|40.717377|CRD| 6.0|   0.5|   0.5|  1.62|   0.0|8.62|\n",
            "|            76942C3205E17D7E7...|            25BA06A87905667AA...|2013-01-01 00:00:00|2013-01-01 00:05:00|300|0.61|-73.955925|40.781887|-73.963181|40.777832|CSH| 5.0|   0.5|   0.5|   0.0|   0.0| 6.0|\n",
            "|            8B5F45807D8EC24DD...|            577D1B6729EF9014C...|2013-01-01 00:00:00|2013-01-01 00:05:00|300|0.06|-73.984871|40.753723|-73.983849|40.754467|CSH| 4.5|   0.5|   0.5|   0.0|   0.0| 5.5|\n",
            "+--------------------------------+--------------------------------+-------------------+-------------------+---+----+----------+---------+----------+---------+---+----+------+------+------+------+----+\n",
            "only showing top 20 rows\n",
            "\n"
          ]
        }
      ]
    },
    {
      "cell_type": "code",
      "source": [
        "testRDD = testDataFrame.rdd.map(tuple)\n",
        "testRDD.take(1)"
      ],
      "metadata": {
        "colab": {
          "base_uri": "https://localhost:8080/"
        },
        "id": "nDrjNqbth3GP",
        "outputId": "c00de498-8569-4fe0-a32e-2e2779f43875"
      },
      "execution_count": null,
      "outputs": [
        {
          "output_type": "execute_result",
          "data": {
            "text/plain": [
              "[('22D70BF00EEB0ADC83BA8177BB861991',\n",
              "  '3FF2709163DE7036FCAA4E5A3324E4BF',\n",
              "  '2013-01-01 00:02:00',\n",
              "  '2013-01-01 00:02:00',\n",
              "  0,\n",
              "  0.0,\n",
              "  0.0,\n",
              "  0.0,\n",
              "  0.0,\n",
              "  0.0,\n",
              "  'CSH',\n",
              "  27.0,\n",
              "  0.0,\n",
              "  0.5,\n",
              "  0.0,\n",
              "  0.0,\n",
              "  27.5)]"
            ]
          },
          "metadata": {},
          "execution_count": 30
        }
      ]
    },
    {
      "cell_type": "code",
      "source": [
        "\n",
        "# calling isfloat and correctRows functions to cleaning up data\n",
        "taxilinesCorrected = testRDD.filter(correctRows)\n",
        "taxilinesCorrected.take(1)"
      ],
      "metadata": {
        "colab": {
          "base_uri": "https://localhost:8080/"
        },
        "id": "ICsJNxXSN_ub",
        "outputId": "a949f306-23e3-4634-b7f2-4d7c251f0c68"
      },
      "execution_count": null,
      "outputs": [
        {
          "output_type": "execute_result",
          "data": {
            "text/plain": [
              "[('0EC22AAF491A8BD91F279350C2B010FD',\n",
              "  '778C92B26AE78A9EBDF96B49C67E4007',\n",
              "  '2013-01-01 00:01:00',\n",
              "  '2013-01-01 00:03:00',\n",
              "  120,\n",
              "  0.71,\n",
              "  -73.973145,\n",
              "  40.752827,\n",
              "  -73.965897,\n",
              "  40.760445,\n",
              "  'CSH',\n",
              "  4.0,\n",
              "  0.5,\n",
              "  0.5,\n",
              "  0.0,\n",
              "  0.0,\n",
              "  5.0)]"
            ]
          },
          "metadata": {},
          "execution_count": 33
        }
      ]
    }
  ]
}